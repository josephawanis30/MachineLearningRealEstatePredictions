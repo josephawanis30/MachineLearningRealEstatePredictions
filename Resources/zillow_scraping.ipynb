{
 "cells": [
  {
   "cell_type": "code",
   "execution_count": 11,
   "id": "a075cdc4",
   "metadata": {},
   "outputs": [],
   "source": [
    "# Import Splinter and BeautifulSoup, and Pandas\n",
    "import pandas as pd\n",
    "from splinter import Browser\n",
    "from bs4 import BeautifulSoup as soup\n",
    "from webdriver_manager.chrome import ChromeDriverManager"
   ]
  },
  {
   "cell_type": "code",
   "execution_count": 12,
   "id": "4c2b40e2",
   "metadata": {},
   "outputs": [
    {
     "name": "stderr",
     "output_type": "stream",
     "text": [
      "\n",
      "\n",
      "====== WebDriver manager ======\n",
      "Current google-chrome version is 101.0.4951\n",
      "Get LATEST chromedriver version for 101.0.4951 google-chrome\n",
      "Trying to download new driver from https://chromedriver.storage.googleapis.com/101.0.4951.41/chromedriver_win32.zip\n",
      "Driver has been saved in cache [C:\\Users\\jodad\\.wdm\\drivers\\chromedriver\\win32\\101.0.4951.41]\n"
     ]
    }
   ],
   "source": [
    "executable_path = {'executable_path': ChromeDriverManager().install()}\n",
    "browser = Browser('chrome', **executable_path, headless=False)"
   ]
  },
  {
   "cell_type": "code",
   "execution_count": 13,
   "id": "6ce540ea",
   "metadata": {},
   "outputs": [
    {
     "data": {
      "text/plain": [
       "True"
      ]
     },
     "execution_count": 13,
     "metadata": {},
     "output_type": "execute_result"
    }
   ],
   "source": [
    "# Visit the mars nasa news site\n",
    "url = 'https://www.zillow.com/phoenix-az/sold/?searchQueryState=%7B%22pagination%22%3A%7B%7D%2C%22usersSearchTerm%22%3A%22Phoenix%2C%20AZ%22%2C%22mapBounds%22%3A%7B%22west%22%3A-112.4537497477194%2C%22east%22%3A-111.44438085123502%2C%22south%22%3A33.086358517890794%2C%22north%22%3A33.915437908160854%7D%2C%22regionSelection%22%3A%5B%7B%22regionId%22%3A40326%2C%22regionType%22%3A6%7D%5D%2C%22isMapVisible%22%3Atrue%2C%22filterState%22%3A%7B%22fore%22%3A%7B%22value%22%3Afalse%7D%2C%22ah%22%3A%7B%22value%22%3Atrue%7D%2C%22sort%22%3A%7B%22value%22%3A%22globalrelevanceex%22%7D%2C%22auc%22%3A%7B%22value%22%3Afalse%7D%2C%22nc%22%3A%7B%22value%22%3Afalse%7D%2C%22rs%22%3A%7B%22value%22%3Atrue%7D%2C%22fsbo%22%3A%7B%22value%22%3Afalse%7D%2C%22cmsn%22%3A%7B%22value%22%3Afalse%7D%2C%22fsba%22%3A%7B%22value%22%3Afalse%7D%7D%2C%22isListVisible%22%3Atrue%7D'\n",
    "browser.visit(url)\n",
    "# Optional delay for loading the page\n",
    "browser.is_element_present_by_css('div.list-card-info', wait_time=1)"
   ]
  },
  {
   "cell_type": "code",
   "execution_count": 14,
   "id": "f8081e63",
   "metadata": {},
   "outputs": [],
   "source": [
    "html = browser.html\n",
    "news_soup = soup(html, 'html.parser')\n",
    "slide_elem = news_soup.select_one('div.list-card-info')"
   ]
  },
  {
   "cell_type": "code",
   "execution_count": 16,
   "id": "61b8d84f",
   "metadata": {},
   "outputs": [
    {
     "data": {
      "text/plain": [
       "<div class=\"list-card-price\">$613,415</div>"
      ]
     },
     "execution_count": 16,
     "metadata": {},
     "output_type": "execute_result"
    }
   ],
   "source": [
    "slide_elem.find('div', class_='list-card-price')"
   ]
  },
  {
   "cell_type": "code",
   "execution_count": 18,
   "id": "70effd1c",
   "metadata": {},
   "outputs": [
    {
     "data": {
      "text/plain": [
       "'$613,415'"
      ]
     },
     "execution_count": 18,
     "metadata": {},
     "output_type": "execute_result"
    }
   ],
   "source": [
    "# Use the parent element to find the first tag and save it as `price`\n",
    "price = slide_elem.find('div', class_='list-card-price').get_text()\n",
    "price"
   ]
  },
  {
   "cell_type": "code",
   "execution_count": 37,
   "id": "317631f0",
   "metadata": {},
   "outputs": [
    {
     "data": {
      "text/plain": [
       "'3 bds3 ba1,832 sqft- Sold'"
      ]
     },
     "execution_count": 37,
     "metadata": {},
     "output_type": "execute_result"
    }
   ],
   "source": [
    "#beds\n",
    "bds = slide_elem.find('ul', class_='list-card-details').get_text()\n",
    "bds"
   ]
  },
  {
   "cell_type": "code",
   "execution_count": 42,
   "id": "99a71a6b",
   "metadata": {},
   "outputs": [
    {
     "data": {
      "text/plain": [
       "'4879 E Paddock Pl, Scottsdale, AZ 85254'"
      ]
     },
     "execution_count": 42,
     "metadata": {},
     "output_type": "execute_result"
    }
   ],
   "source": [
    "#zip code\n",
    "zip_code = slide_elem.find('address', class_='list-card-addr').get_text()\n",
    "zip_code"
   ]
  },
  {
   "cell_type": "code",
   "execution_count": null,
   "id": "457ea3bd",
   "metadata": {},
   "outputs": [],
   "source": []
  }
 ],
 "metadata": {
  "kernelspec": {
   "display_name": "PythonData",
   "language": "python",
   "name": "pythondata"
  },
  "language_info": {
   "codemirror_mode": {
    "name": "ipython",
    "version": 3
   },
   "file_extension": ".py",
   "mimetype": "text/x-python",
   "name": "python",
   "nbconvert_exporter": "python",
   "pygments_lexer": "ipython3",
   "version": "3.7.11"
  }
 },
 "nbformat": 4,
 "nbformat_minor": 5
}
