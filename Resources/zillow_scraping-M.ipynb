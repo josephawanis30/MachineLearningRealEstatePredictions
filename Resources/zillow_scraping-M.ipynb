{
 "cells": [
  {
   "cell_type": "code",
   "execution_count": 59,
   "id": "a075cdc4",
   "metadata": {},
   "outputs": [],
   "source": [
    "# Import Splinter and BeautifulSoup, and Pandas\n",
    "import pandas as pd\n",
    "from splinter import Browser\n",
    "from bs4 import BeautifulSoup as soup\n",
    "from webdriver_manager.chrome import ChromeDriverManager"
   ]
  },
  {
   "cell_type": "code",
   "execution_count": 60,
   "id": "4c2b40e2",
   "metadata": {},
   "outputs": [
    {
     "name": "stderr",
     "output_type": "stream",
     "text": [
      "\n",
      "\n",
      "====== WebDriver manager ======\n",
      "Current google-chrome version is 101.0.4951\n",
      "Get LATEST chromedriver version for 101.0.4951 google-chrome\n",
      "Driver [/Users/manithaayaninilkkunnathilmpillai/.wdm/drivers/chromedriver/mac64/101.0.4951.41/chromedriver] found in cache\n"
     ]
    }
   ],
   "source": [
    "executable_path = {'executable_path': ChromeDriverManager().install()}\n",
    "browser = Browser('chrome', **executable_path, headless=False)"
   ]
  },
  {
   "cell_type": "code",
   "execution_count": 61,
   "id": "6ce540ea",
   "metadata": {},
   "outputs": [
    {
     "data": {
      "text/plain": [
       "False"
      ]
     },
     "execution_count": 61,
     "metadata": {},
     "output_type": "execute_result"
    }
   ],
   "source": [
    "# Visit the mars nasa news site\n",
    "url = 'https://www.zillow.com/phoenix-az/sold/?searchQueryState=%7B%22pagination%22%3A%7B%7D%2C%22usersSearchTerm%22%3A%22Phoenix%2C%20AZ%22%2C%22mapBounds%22%3A%7B%22west%22%3A-112.4537497477194%2C%22east%22%3A-111.44438085123502%2C%22south%22%3A33.086358517890794%2C%22north%22%3A33.915437908160854%7D%2C%22regionSelection%22%3A%5B%7B%22regionId%22%3A40326%2C%22regionType%22%3A6%7D%5D%2C%22isMapVisible%22%3Atrue%2C%22filterState%22%3A%7B%22fore%22%3A%7B%22value%22%3Afalse%7D%2C%22ah%22%3A%7B%22value%22%3Atrue%7D%2C%22sort%22%3A%7B%22value%22%3A%22globalrelevanceex%22%7D%2C%22auc%22%3A%7B%22value%22%3Afalse%7D%2C%22nc%22%3A%7B%22value%22%3Afalse%7D%2C%22rs%22%3A%7B%22value%22%3Atrue%7D%2C%22fsbo%22%3A%7B%22value%22%3Afalse%7D%2C%22cmsn%22%3A%7B%22value%22%3Afalse%7D%2C%22fsba%22%3A%7B%22value%22%3Afalse%7D%7D%2C%22isListVisible%22%3Atrue%7D'\n",
    "browser.visit(url)\n",
    "# Optional delay for loading the page\n",
    "browser.is_element_present_by_css('div.list-card-info', wait_time=1)"
   ]
  },
  {
   "cell_type": "code",
   "execution_count": 62,
   "id": "f8081e63",
   "metadata": {},
   "outputs": [],
   "source": [
    "html = browser.html\n",
    "news_soup = soup(html, 'html.parser')\n",
    "slide_elem = news_soup.select_one('div.list-card-info')"
   ]
  },
  {
   "cell_type": "code",
   "execution_count": 49,
   "id": "61b8d84f",
   "metadata": {},
   "outputs": [
    {
     "data": {
      "text/plain": [
       "<div class=\"list-card-price\">$613,415</div>"
      ]
     },
     "execution_count": 49,
     "metadata": {},
     "output_type": "execute_result"
    }
   ],
   "source": [
    "slide_elem.find('div', class_='list-card-price')"
   ]
  },
  {
   "cell_type": "code",
   "execution_count": 50,
   "id": "70effd1c",
   "metadata": {},
   "outputs": [
    {
     "data": {
      "text/plain": [
       "'613415'"
      ]
     },
     "execution_count": 50,
     "metadata": {},
     "output_type": "execute_result"
    }
   ],
   "source": [
    "# Use the parent element to find the first tag and save it as `price`\n",
    "price = slide_elem.find('div', class_='list-card-price').get_text().replace('$', '').replace(',', '')\n",
    "price"
   ]
  },
  {
   "cell_type": "code",
   "execution_count": 51,
   "id": "317631f0",
   "metadata": {},
   "outputs": [
    {
     "data": {
      "text/plain": [
       "'3'"
      ]
     },
     "execution_count": 51,
     "metadata": {},
     "output_type": "execute_result"
    }
   ],
   "source": [
    "#beds\n",
    "bds = slide_elem.find_all('ul', class_='list-card-details')[0].contents[0].contents[0]\n",
    "bds"
   ]
  },
  {
   "cell_type": "code",
   "execution_count": 52,
   "id": "2032b006",
   "metadata": {},
   "outputs": [
    {
     "data": {
      "text/plain": [
       "'3'"
      ]
     },
     "execution_count": 52,
     "metadata": {},
     "output_type": "execute_result"
    }
   ],
   "source": [
    "baths = slide_elem.find_all('ul', class_='list-card-details')[0].contents[1].contents[0]\n",
    "baths"
   ]
  },
  {
   "cell_type": "code",
   "execution_count": 53,
   "id": "e591a569",
   "metadata": {},
   "outputs": [
    {
     "data": {
      "text/plain": [
       "'1832'"
      ]
     },
     "execution_count": 53,
     "metadata": {},
     "output_type": "execute_result"
    }
   ],
   "source": [
    "sqft = slide_elem.find_all('ul', class_='list-card-details')[0].contents[2].contents[0].replace(',', '')\n",
    "sqft"
   ]
  },
  {
   "cell_type": "code",
   "execution_count": 54,
   "id": "99a71a6b",
   "metadata": {},
   "outputs": [
    {
     "data": {
      "text/plain": [
       "'4879 E Paddock Pl, Scottsdale, AZ 85254'"
      ]
     },
     "execution_count": 54,
     "metadata": {},
     "output_type": "execute_result"
    }
   ],
   "source": [
    "#zip code\n",
    "addr = slide_elem.find('address', class_='list-card-addr').get_text()\n",
    "addr"
   ]
  },
  {
   "cell_type": "code",
   "execution_count": 55,
   "id": "457ea3bd",
   "metadata": {},
   "outputs": [],
   "source": [
    "x = 0\n",
    "bedrooms = []\n",
    "bathrooms = []\n",
    "sqft = []\n",
    "price = []\n",
    "address=[]\n",
    "# # Browse through each page \n",
    "# browser.links.find_by_tag('path').click()\n",
    "# Parse the HTML\n",
    "html = browser.html\n",
    "news_soup = soup(html, 'html.parser')\n",
    "slide_elem = news_soup.select_one('div.list-card-info')\n",
    "\n",
    "p = list(range(40))\n",
    "for v in p: \n",
    "    if (len(slide_elem.find_all('ul',class_='list-card-details' )[x].contents)==3):\n",
    "        try:\n",
    "            price.append(slide_elem.find_all('div', class_='list-card-price').get_text())\n",
    "            bedrooms.append(slide_elem.find_all('ul', class_='list-card-details')[0].contents[0].contents[0])\n",
    "            bathrooms.append(slide_elem.find_all('ul', class_='list-card-details')[0].contents[1].contents[0])\n",
    "            sqft.append(slide_elem.find_all('ul', class_='list-card-details')[0].contents[2].contents[0].replace(',', ''))\n",
    "            address.append (slide_elem.find('address', class_='list-card-addr').get_text())            \n",
    "            x = x + 1\n",
    "        except:\n",
    "            if len(price) > len(bedrooms):\n",
    "                bedrooms.append(None)\n",
    "                bathrooms.append(slide_elem.find_all('ul', class_='list-card-details')[0].contents[1].contents[0])\n",
    "                sqft.append(slide_elem.find_all('ul', class_='list-card-details')[0].contents[2].contents[0].replace(',', ''))\n",
    "                address.append (slide_elem.find('address', class_='list-card-addr').get_text()) \n",
    "                x = x + 1\n",
    "            elif len(bedrooms) > len(bathrooms):\n",
    "                bathrooms.append(None)\n",
    "                sqft.append(slide_elem.find_all('ul', class_='list-card-details')[0].contents[v].contents[0].replace(',', ''))\n",
    "                address.append (slide_elem.find('address', class_='list-card-addr').get_text()) \n",
    "                x = x + 1\n",
    "            elif len(bathrooms)>len(address):\n",
    "                sqft.append(None)\n",
    "                address.append (slide_elem.find('address', class_='list-card-addr').get_text()) \n",
    "                x = x + 1\n",
    "            else :\n",
    "                address.append(None)\n",
    "            continue\n",
    "        else:\n",
    "                x = x + 1\n",
    "                \n",
    "                \n",
    "browser.links.find_by_partial_text('Chevron Right').click()\n",
    "\n",
    "                "
   ]
  },
  {
   "cell_type": "code",
   "execution_count": 56,
   "id": "d6827c9a",
   "metadata": {},
   "outputs": [
    {
     "name": "stdout",
     "output_type": "stream",
     "text": [
      "[<ul class=\"list-card-details\"><li class=\"\">3<abbr class=\"list-card-label\"> <!-- -->bds</abbr></li><li class=\"\">3<abbr class=\"list-card-label\"> <!-- -->ba</abbr></li><li class=\"\">1,832<abbr class=\"list-card-label\"> <!-- -->sqft</abbr></li><li class=\"list-card-statusText\">-<abbr class=\"list-card-label\"> <!-- -->Sold</abbr></li></ul>]\n"
     ]
    }
   ],
   "source": [
    "print(slide_elem.find_all('ul',class_='list-card-details' ))"
   ]
  },
  {
   "cell_type": "code",
   "execution_count": 57,
   "id": "3271247b",
   "metadata": {},
   "outputs": [],
   "source": [
    "zillowdf = pd.DataFrame()\n",
    "zillowdf['address'] = address\n",
    "zillowdf['bedrooms'] = bedrooms\n",
    "zillowdf['bathrooms'] = bathrooms\n",
    "zillowdf['sqft'] = sqft\n",
    "zillowdf['price'] = price"
   ]
  },
  {
   "cell_type": "code",
   "execution_count": 58,
   "id": "1ac283a2",
   "metadata": {},
   "outputs": [
    {
     "data": {
      "text/html": [
       "<div>\n",
       "<style scoped>\n",
       "    .dataframe tbody tr th:only-of-type {\n",
       "        vertical-align: middle;\n",
       "    }\n",
       "\n",
       "    .dataframe tbody tr th {\n",
       "        vertical-align: top;\n",
       "    }\n",
       "\n",
       "    .dataframe thead th {\n",
       "        text-align: right;\n",
       "    }\n",
       "</style>\n",
       "<table border=\"1\" class=\"dataframe\">\n",
       "  <thead>\n",
       "    <tr style=\"text-align: right;\">\n",
       "      <th></th>\n",
       "      <th>address</th>\n",
       "      <th>bedrooms</th>\n",
       "      <th>bathrooms</th>\n",
       "      <th>sqft</th>\n",
       "      <th>price</th>\n",
       "    </tr>\n",
       "  </thead>\n",
       "  <tbody>\n",
       "  </tbody>\n",
       "</table>\n",
       "</div>"
      ],
      "text/plain": [
       "Empty DataFrame\n",
       "Columns: [address, bedrooms, bathrooms, sqft, price]\n",
       "Index: []"
      ]
     },
     "execution_count": 58,
     "metadata": {},
     "output_type": "execute_result"
    }
   ],
   "source": [
    "zillowdf"
   ]
  },
  {
   "cell_type": "code",
   "execution_count": null,
   "id": "70c0b767",
   "metadata": {},
   "outputs": [],
   "source": []
  }
 ],
 "metadata": {
  "kernelspec": {
   "display_name": "PythonData",
   "language": "python",
   "name": "pythondata"
  },
  "language_info": {
   "codemirror_mode": {
    "name": "ipython",
    "version": 3
   },
   "file_extension": ".py",
   "mimetype": "text/x-python",
   "name": "python",
   "nbconvert_exporter": "python",
   "pygments_lexer": "ipython3",
   "version": "3.9.7"
  }
 },
 "nbformat": 4,
 "nbformat_minor": 5
}
