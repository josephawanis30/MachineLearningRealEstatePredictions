{
 "cells": [
  {
   "cell_type": "code",

   "execution_count": 153,

   "id": "a075cdc4",
   "metadata": {},
   "outputs": [],
   "source": [
    "# Import Splinter and BeautifulSoup, and Pandas\n",
    "import requests\n",
    "import pandas as pd\n",
    "from splinter import Browser\n",
    "from bs4 import BeautifulSoup as soup\n",
    "from webdriver_manager.chrome import ChromeDriverManager"
   ]
  },
  {
   "cell_type": "code",

   "execution_count": 154,

   "id": "4c2b40e2",
   "metadata": {},
   "outputs": [
    {
     "name": "stderr",
     "output_type": "stream",
     "text": [
      "\n",
      "\n",
      "====== WebDriver manager ======\n",
      "Current google-chrome version is 101.0.4951\n",
      "Get LATEST chromedriver version for 101.0.4951 google-chrome\n",
      "Trying to download new driver from https://chromedriver.storage.googleapis.com/101.0.4951.41/chromedriver_win32.zip\n",
      "Driver has been saved in cache [C:\\Users\\jodad\\.wdm\\drivers\\chromedriver\\win32\\101.0.4951.41]\n"
     ]
    }
   ],
   "source": [
    "executable_path = {'executable_path': ChromeDriverManager().install()}\n",
    "browser = Browser('chrome', **executable_path, headless=False)"
   ]
  },
  {
   "cell_type": "code",

   "execution_count": 155,

   "id": "6ce540ea",
   "metadata": {},
   "outputs": [
    {
     "data": {
      "text/plain": [
       "True"
      ]
     },

     "execution_count": 155,

     "metadata": {},
     "output_type": "execute_result"
    }
   ],
   "source": [
    "# Visit the zillow site\n",
    "url = 'https://www.zillow.com/phoenix-az/sold/?searchQueryState=%7B%22pagination%22%3A%7B%7D%2C%22usersSearchTerm%22%3A%22Phoenix%2C%20AZ%22%2C%22mapBounds%22%3A%7B%22west%22%3A-112.4537497477194%2C%22east%22%3A-111.44438085123502%2C%22south%22%3A33.086358517890794%2C%22north%22%3A33.915437908160854%7D%2C%22regionSelection%22%3A%5B%7B%22regionId%22%3A40326%2C%22regionType%22%3A6%7D%5D%2C%22isMapVisible%22%3Atrue%2C%22filterState%22%3A%7B%22fore%22%3A%7B%22value%22%3Afalse%7D%2C%22ah%22%3A%7B%22value%22%3Atrue%7D%2C%22sort%22%3A%7B%22value%22%3A%22globalrelevanceex%22%7D%2C%22auc%22%3A%7B%22value%22%3Afalse%7D%2C%22nc%22%3A%7B%22value%22%3Afalse%7D%2C%22rs%22%3A%7B%22value%22%3Atrue%7D%2C%22fsbo%22%3A%7B%22value%22%3Afalse%7D%2C%22cmsn%22%3A%7B%22value%22%3Afalse%7D%2C%22fsba%22%3A%7B%22value%22%3Afalse%7D%7D%2C%22isListVisible%22%3Atrue%7D'\n",
    "browser.visit(url)\n",
    "# Optional delay for loading the page\n",

    "browser.is_element_present_by_css('ul.photo-cards', wait_time=1)"

   ]
  },
  {
   "cell_type": "code",

   "execution_count": 156,

   "id": "f8081e63",
   "metadata": {},
   "outputs": [],
   "source": [
    "html = browser.html\n",
    "news_soup = soup(html, 'html.parser')\n",
    "slide_elem = news_soup.select_one('ul.photo-cards')"
   ]
  },
  {
   "cell_type": "code",

   "execution_count": 157,

   "id": "61b8d84f",
   "metadata": {},
   "outputs": [
    {
     "data": {
      "text/plain": [

       "<div class=\"list-card-price\">$620,000</div>"
      ]
     },
     "execution_count": 157,

     "metadata": {},
     "output_type": "execute_result"
    }
   ],
   "source": [
    "slide_elem.find('div', class_='list-card-price')"
   ]
  },
  {
   "cell_type": "code",

   "execution_count": 158,

   "id": "70effd1c",
   "metadata": {},
   "outputs": [
    {
     "data": {
      "text/plain": [

       "'620000'"
      ]
     },
     "execution_count": 158,

     "metadata": {},
     "output_type": "execute_result"
    }
   ],
   "source": [
    "# Use the parent element to find the first tag and save it as `price`\n",
    "price = slide_elem.find('div', class_='list-card-price').contents[0].replace('$', '').replace(',', '')\n",
    "price"
   ]
  },
  {
   "cell_type": "code",

   "execution_count": 159,

   "id": "317631f0",
   "metadata": {},
   "outputs": [
    {
     "data": {
      "text/plain": [
       "'3'"
      ]
     },

     "execution_count": 159,

     "metadata": {},
     "output_type": "execute_result"
    }
   ],
   "source": [
    "#beds\n",
    "bds = slide_elem.find_all('ul', class_='list-card-details')[0].contents[0].contents[0]\n",
    "bds"
   ]
  },
  {
   "cell_type": "code",

   "execution_count": 160,

   "id": "2032b006",
   "metadata": {},
   "outputs": [
    {
     "data": {
      "text/plain": [
       "'2'"
      ]
     },

     "execution_count": 160,

     "metadata": {},
     "output_type": "execute_result"
    }
   ],
   "source": [
    "baths = slide_elem.find_all('ul', class_='list-card-details')[0].contents[1].contents[0]\n",
    "baths"
   ]
  },
  {
   "cell_type": "code",

   "execution_count": 161,

   "id": "e591a569",
   "metadata": {},
   "outputs": [
    {
     "data": {
      "text/plain": [

       "'2020'"
      ]
     },
     "execution_count": 161,

     "metadata": {},
     "output_type": "execute_result"
    }
   ],
   "source": [
    "sqft = slide_elem.find_all('ul', class_='list-card-details')[0].contents[2].contents[0].replace(',', '')\n",
    "sqft"
   ]
  },
  {
   "cell_type": "code",

   "execution_count": 162,

   "id": "99a71a6b",
   "metadata": {},
   "outputs": [
    {
     "data": {
      "text/plain": [

       "'4768 E Tierra Buena Ln, Phoenix, AZ 85032'"
      ]
     },
     "execution_count": 162,

     "metadata": {},
     "output_type": "execute_result"
    }
   ],
   "source": [
    "#zip code\n",
    "addr = slide_elem.find('address', class_='list-card-addr').contents[0]\n",
    "addr"
   ]
  },
  {
   "cell_type": "code",

   "execution_count": 163,
   "id": "615a513d",

   "metadata": {},
   "outputs": [
    {
     "data": {
      "text/plain": [
       "4"
      ]
     },

     "execution_count": 163,

     "metadata": {},
     "output_type": "execute_result"
    }
   ],
   "source": [
    "len(slide_elem.find_all('ul',class_='list-card-details' )[x].contents)"
   ]
  },
  {
   "cell_type": "code",

   "execution_count": 164,

   "id": "457ea3bd",
   "metadata": {},
   "outputs": [
    {
     "ename": "IndexError",
     "evalue": "list index out of range",
     "output_type": "error",
     "traceback": [

      "\u001b[0;31m---------------------------------------------------------------------------\u001b[0m",
      "\u001b[0;31mIndexError\u001b[0m                                Traceback (most recent call last)",
      "\u001b[0;32m/var/folders/2x/tchynxh953q04sb9blyj4vn40000gn/T/ipykernel_13029/3429518889.py\u001b[0m in \u001b[0;36m<module>\u001b[0;34m\u001b[0m\n\u001b[1;32m     12\u001b[0m \u001b[0mslide_elem\u001b[0m \u001b[0;34m=\u001b[0m \u001b[0mnews_soup\u001b[0m\u001b[0;34m.\u001b[0m\u001b[0mselect_one\u001b[0m\u001b[0;34m(\u001b[0m\u001b[0;34m'ul.photo-cards'\u001b[0m\u001b[0;34m)\u001b[0m\u001b[0;34m\u001b[0m\u001b[0;34m\u001b[0m\u001b[0m\n\u001b[1;32m     13\u001b[0m \u001b[0;32mfor\u001b[0m \u001b[0melem\u001b[0m \u001b[0;32min\u001b[0m \u001b[0mslide_elem\u001b[0m\u001b[0;34m:\u001b[0m\u001b[0;34m\u001b[0m\u001b[0;34m\u001b[0m\u001b[0m\n\u001b[0;32m---> 14\u001b[0;31m     \u001b[0mcard_price\u001b[0m\u001b[0;34m=\u001b[0m\u001b[0melem\u001b[0m\u001b[0;34m.\u001b[0m\u001b[0mfind_all\u001b[0m\u001b[0;34m(\u001b[0m\u001b[0;34m'div'\u001b[0m\u001b[0;34m,\u001b[0m \u001b[0mclass_\u001b[0m\u001b[0;34m=\u001b[0m\u001b[0;34m'list-card-price'\u001b[0m\u001b[0;34m)\u001b[0m\u001b[0;34m[\u001b[0m\u001b[0mx\u001b[0m\u001b[0;34m]\u001b[0m\u001b[0;34m\u001b[0m\u001b[0;34m\u001b[0m\u001b[0m\n\u001b[0m\u001b[1;32m     15\u001b[0m     \u001b[0mcard_address\u001b[0m\u001b[0;34m=\u001b[0m\u001b[0melem\u001b[0m\u001b[0;34m.\u001b[0m\u001b[0mfind_all\u001b[0m\u001b[0;34m(\u001b[0m\u001b[0;34m'address'\u001b[0m\u001b[0;34m,\u001b[0m \u001b[0mclass_\u001b[0m\u001b[0;34m=\u001b[0m\u001b[0;34m'list-card-addr'\u001b[0m\u001b[0;34m)\u001b[0m\u001b[0;34m[\u001b[0m\u001b[0mx\u001b[0m\u001b[0;34m]\u001b[0m\u001b[0;34m\u001b[0m\u001b[0;34m\u001b[0m\u001b[0m\n\u001b[1;32m     16\u001b[0m     \u001b[0mcard_details\u001b[0m\u001b[0;34m=\u001b[0m\u001b[0melem\u001b[0m\u001b[0;34m.\u001b[0m\u001b[0mfind_all\u001b[0m\u001b[0;34m(\u001b[0m\u001b[0;34m'ul'\u001b[0m\u001b[0;34m,\u001b[0m \u001b[0mclass_\u001b[0m\u001b[0;34m=\u001b[0m\u001b[0;34m'list-card-details'\u001b[0m\u001b[0;34m)\u001b[0m\u001b[0;34m[\u001b[0m\u001b[0mx\u001b[0m\u001b[0;34m]\u001b[0m\u001b[0;34m\u001b[0m\u001b[0;34m\u001b[0m\u001b[0m\n",
      "\u001b[0;31mIndexError\u001b[0m: list index out of range"

     ]
    }
   ],
   "source": [
    "x = 0\n",
    "bedrooms = []\n",
    "bathrooms = []\n",
    "sqft = []\n",
    "price = []\n",
    "address=[]\n",
    "# # Browse through each page \n",
    "# browser.links.find_by_tag('path').click()\n",
    "# Parse the HTML\n",
    "html = browser.html\n",
    "news_soup = soup(html, 'html.parser')\n",
    "slide_elem = news_soup.select_one('ul.photo-cards')\n",
    "for elem in slide_elem:\n",
    "    card_price=elem.find_all('div', class_='list-card-price')[x]\n",
    "    card_address=elem.find_all('address', class_='list-card-addr')[x]\n",
    "    card_details=elem.find_all('ul', class_='list-card-details')[x]\n",
    "  \n",
    "    try:\n",
    "        if(card_price.contents[0] is not None):\n",
    "            price.append(card_price.contents[0].replace('$', '').replace(',', ''))\n",
    "        else:\n",
    "            price.append(None)\n",
    "            \n",
    "\n",
    "        if(card_details.contents[0] is not None):\n",
    "            bedrooms_card_details=card_details.contents[0].contents[0]\n",
    "            if(bedrooms_card_details is not None):\n",
    "                bedrooms.append(card_details.contents[0].contents[0])\n",
    "            else:\n",
    "                bedrooms.append(None)\n",
    "        else:\n",
    "            bedrooms.append(None)\n",
    "    \n",
    "        if(card_details.contents[1] is not None):\n",
    "            bathrooms_card_details=card_details.contents[1].contents[0]\n",
    "            if(bathrooms_card_details is not None):\n",
    "                bathrooms.append(card_details.contents[1].contents[0])\n",
    "            else:\n",
    "                bathrooms.append(None)\n",
    "        else:\n",
    "            bathrooms.append(None)\n",
    "    \n",
    "        if(card_details.contents[2] is not None):\n",
    "            sqft_card_details=card_details.contents[2].contents[0]\n",
    "            if(sqft_card_details is not None):\n",
    "                sqft.append(card_details.contents[2].contents[0].replace(',', ''))\n",
    "            else:\n",
    "                sqft.append(None)\n",
    "        else:\n",
    "            sqft.append(None)\n",
    "        if(card_address.contents[0] is not None):\n",
    "            address.append(card_address.contents[0])\n",
    "        else:\n",
    "            address.append(None)  \n",
    "    \n",
    "    except:\n",
    "            if len(price) > len(bedrooms):\n",
    "                bedrooms.append(None)\n",
    "                bathrooms.append(card_details.contents[1].contents[0])\n",
    "                sqft.append(card_details.contents[2].contents[0].replace(',', ''))\n",
    "                address.append (card_address.contents[0]) \n",
    "                x = x + 1\n",
    "            elif len(bedrooms) > len(bathrooms):\n",
    "                bathrooms.append(None)\n",
    "                sqft.append(card_details.contents[0].replace(',', ''))\n",
    "                address.append(card_address.contents[0]) \n",
    "                x = x + 1\n",
    "            elif len(bathrooms)>len(address):\n",
    "                sqft.append(None)\n",
    "                address.append(card_address.contents[0]) \n",
    "                x = x + 1\n",
    "            else :\n",
    "                address.append(None)\n",
    "            continue\n",
    "x=x+1\n",
    "                \n",

    "#browser.links.find_by_partial_text('Chevron Right').click()\n",
    "\n",

    "                "
   ]
  },
  {
   "cell_type": "code",

   "execution_count": null,
   "id": "38cc4bfe",
   "metadata": {},
   "outputs": [],
   "source": []
  },
  {
   "cell_type": "code",
   "execution_count": 165,

   "id": "d6827c9a",
   "metadata": {},
   "outputs": [
    {
     "name": "stdout",
     "output_type": "stream",
     "text": [

      "[<ul class=\"list-card-details\"><li class=\"\">3<abbr class=\"list-card-label\"> <!-- -->bds</abbr></li><li class=\"\">2<abbr class=\"list-card-label\"> <!-- -->ba</abbr></li><li class=\"\">2,020<abbr class=\"list-card-label\"> <!-- -->sqft</abbr></li><li class=\"list-card-statusText\">-<abbr class=\"list-card-label\"> <!-- -->Sold</abbr></li></ul>, <ul class=\"list-card-details\"><li class=\"\">5<abbr class=\"list-card-label\"> <!-- -->bds</abbr></li><li class=\"\">3<abbr class=\"list-card-label\"> <!-- -->ba</abbr></li><li class=\"\">3,394<abbr class=\"list-card-label\"> <!-- -->sqft</abbr></li><li class=\"list-card-statusText\">-<abbr class=\"list-card-label\"> <!-- -->Sold</abbr></li></ul>, <ul class=\"list-card-details\"><li class=\"\">3<abbr class=\"list-card-label\"> <!-- -->bds</abbr></li><li class=\"\">2<abbr class=\"list-card-label\"> <!-- -->ba</abbr></li><li class=\"\">1,731<abbr class=\"list-card-label\"> <!-- -->sqft</abbr></li><li class=\"list-card-statusText\">-<abbr class=\"list-card-label\"> <!-- -->Sold</abbr></li></ul>, <ul class=\"list-card-details\"><li class=\"\">0.58<abbr class=\"list-card-label\"> <!-- -->acres lot</abbr></li><li class=\"list-card-statusText\">-<abbr class=\"list-card-label\"> <!-- -->Sold</abbr></li></ul>, <ul class=\"list-card-details\"><li class=\"\">3<abbr class=\"list-card-label\"> <!-- -->bds</abbr></li><li class=\"\">2.5<abbr class=\"list-card-label\"> <!-- -->ba</abbr></li><li class=\"\">3,089<abbr class=\"list-card-label\"> <!-- -->sqft</abbr></li><li class=\"list-card-statusText\">-<abbr class=\"list-card-label\"> <!-- -->Sold</abbr></li></ul>, <ul class=\"list-card-details\"><li class=\"\">3<abbr class=\"list-card-label\"> <!-- -->bds</abbr></li><li class=\"\">3<abbr class=\"list-card-label\"> <!-- -->ba</abbr></li><li class=\"\">1,452<abbr class=\"list-card-label\"> <!-- -->sqft</abbr></li><li class=\"list-card-statusText\">-<abbr class=\"list-card-label\"> <!-- -->Sold</abbr></li></ul>, <ul class=\"list-card-details\"><li class=\"\">4<abbr class=\"list-card-label\"> <!-- -->bds</abbr></li><li class=\"\">3<abbr class=\"list-card-label\"> <!-- -->ba</abbr></li><li class=\"\">2,080<abbr class=\"list-card-label\"> <!-- -->sqft</abbr></li><li class=\"list-card-statusText\">-<abbr class=\"list-card-label\"> <!-- -->Sold</abbr></li></ul>, <ul class=\"list-card-details\"><li class=\"\">3<abbr class=\"list-card-label\"> <!-- -->bds</abbr></li><li class=\"\">1<abbr class=\"list-card-label\"> <!-- -->ba</abbr></li><li class=\"\">960<abbr class=\"list-card-label\"> <!-- -->sqft</abbr></li><li class=\"list-card-statusText\">-<abbr class=\"list-card-label\"> <!-- -->Sold</abbr></li></ul>, <ul class=\"list-card-details\"><li class=\"\">2<abbr class=\"list-card-label\"> <!-- -->bds</abbr></li><li class=\"\">3<abbr class=\"list-card-label\"> <!-- -->ba</abbr></li><li class=\"\">1,088<abbr class=\"list-card-label\"> <!-- -->sqft</abbr></li><li class=\"list-card-statusText\">-<abbr class=\"list-card-label\"> <!-- -->Sold</abbr></li></ul>]\n"

     ]
    }
   ],
   "source": [
    "print(slide_elem.find_all('ul',class_='list-card-details' ))"
   ]
  },
  {
   "cell_type": "code",

   "execution_count": 166,
   "id": "674bb403",
   "metadata": {},
   "outputs": [],
   "source": [
    "browser.quit()"
   ]
  },
  {
   "cell_type": "code",
   "execution_count": 167,

   "id": "3271247b",
   "metadata": {},
   "outputs": [],
   "source": [
    "zillowdf = pd.DataFrame()\n",
    "zillowdf['address'] = address\n",
    "zillowdf['bedrooms'] = bedrooms\n",
    "zillowdf['bathrooms'] = bathrooms\n",
    "zillowdf['sqft'] = sqft\n",
    "zillowdf['price'] = price"
   ]
  },
  {
   "cell_type": "code",

   "execution_count": 168,

   "id": "1ac283a2",
   "metadata": {},
   "outputs": [
    {
     "data": {
      "text/html": [
       "<div>\n",
       "<style scoped>\n",
       "    .dataframe tbody tr th:only-of-type {\n",
       "        vertical-align: middle;\n",
       "    }\n",
       "\n",
       "    .dataframe tbody tr th {\n",
       "        vertical-align: top;\n",
       "    }\n",
       "\n",
       "    .dataframe thead th {\n",
       "        text-align: right;\n",
       "    }\n",
       "</style>\n",
       "<table border=\"1\" class=\"dataframe\">\n",
       "  <thead>\n",
       "    <tr style=\"text-align: right;\">\n",
       "      <th></th>\n",
       "      <th>address</th>\n",
       "      <th>bedrooms</th>\n",
       "      <th>bathrooms</th>\n",
       "      <th>sqft</th>\n",
       "      <th>price</th>\n",
       "    </tr>\n",
       "  </thead>\n",
       "  <tbody>\n",
       "    <tr>\n",
       "      <th>0</th>\n",

       "      <td>4768 E Tierra Buena Ln, Phoenix, AZ 85032</td>\n",
       "      <td>3</td>\n",
       "      <td>2</td>\n",
       "      <td>2020</td>\n",
       "      <td>620000</td>\n",
       "    </tr>\n",
       "    <tr>\n",
       "      <th>1</th>\n",
       "      <td>8809 N 11th Ave, Phoenix, AZ 85021</td>\n",
       "      <td>5</td>\n",
       "      <td>3</td>\n",
       "      <td>3394</td>\n",
       "      <td>1.05M</td>\n",

       "    </tr>\n",
       "  </tbody>\n",
       "</table>\n",
       "</div>"
      ],
      "text/plain": [

       "                                     address bedrooms bathrooms  sqft   price\n",
       "0  4768 E Tierra Buena Ln, Phoenix, AZ 85032        3         2  2020  620000\n",
       "1         8809 N 11th Ave, Phoenix, AZ 85021        5         3  3394   1.05M"
      ]
     },
     "execution_count": 168,

     "metadata": {},
     "output_type": "execute_result"
    }
   ],
   "source": [
    "zillowdf"
   ]
  },
  {
   "cell_type": "code",
   "execution_count": null,
   "id": "70c0b767",
   "metadata": {},
   "outputs": [],
   "source": []
  },
  {
   "cell_type": "code",
   "execution_count": null,
   "id": "c90657ce",
   "metadata": {},
   "outputs": [],
   "source": []
  }
 ],
 "metadata": {
  "kernelspec": {
   "display_name": "PythonData",
   "language": "python",
   "name": "pythondata"
  },
  "language_info": {
   "codemirror_mode": {
    "name": "ipython",
    "version": 3
   },
   "file_extension": ".py",
   "mimetype": "text/x-python",
   "name": "python",
   "nbconvert_exporter": "python",
   "pygments_lexer": "ipython3",
   "version": "3.7.11"
  }
 },
 "nbformat": 4,
 "nbformat_minor": 5
}
