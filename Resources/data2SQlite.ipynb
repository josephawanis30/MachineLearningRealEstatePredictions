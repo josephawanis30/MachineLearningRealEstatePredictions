{
 "cells": [
  {
   "cell_type": "code",
   "execution_count": 1,
   "metadata": {},
   "outputs": [],
   "source": [
    "import pandas as pd\n",
    "import sqlite3"
   ]
  },
  {
   "cell_type": "code",
   "execution_count": 3,
   "metadata": {},
   "outputs": [
    {
     "data": {
      "text/html": [
       "<div>\n",
       "<style scoped>\n",
       "    .dataframe tbody tr th:only-of-type {\n",
       "        vertical-align: middle;\n",
       "    }\n",
       "\n",
       "    .dataframe tbody tr th {\n",
       "        vertical-align: top;\n",
       "    }\n",
       "\n",
       "    .dataframe thead th {\n",
       "        text-align: right;\n",
       "    }\n",
       "</style>\n",
       "<table border=\"1\" class=\"dataframe\">\n",
       "  <thead>\n",
       "    <tr style=\"text-align: right;\">\n",
       "      <th></th>\n",
       "      <th>Price</th>\n",
       "      <th>Address</th>\n",
       "      <th>zip</th>\n",
       "      <th>status</th>\n",
       "      <th>mls</th>\n",
       "      <th>Subdivision</th>\n",
       "      <th>Year Built</th>\n",
       "      <th>Bedrooms</th>\n",
       "      <th>Bathrooms</th>\n",
       "      <th>Approx SQFT</th>\n",
       "    </tr>\n",
       "    <tr>\n",
       "      <th>id</th>\n",
       "      <th></th>\n",
       "      <th></th>\n",
       "      <th></th>\n",
       "      <th></th>\n",
       "      <th></th>\n",
       "      <th></th>\n",
       "      <th></th>\n",
       "      <th></th>\n",
       "      <th></th>\n",
       "      <th></th>\n",
       "    </tr>\n",
       "  </thead>\n",
       "  <tbody>\n",
       "    <tr>\n",
       "      <th>1</th>\n",
       "      <td>427167</td>\n",
       "      <td>3231 W MARYLAND AVE</td>\n",
       "      <td>85017</td>\n",
       "      <td>Active</td>\n",
       "      <td>6395749</td>\n",
       "      <td>WEST PLAZA 6 LOT 614-787</td>\n",
       "      <td>1958</td>\n",
       "      <td>3</td>\n",
       "      <td>2.0</td>\n",
       "      <td>1302.0</td>\n",
       "    </tr>\n",
       "    <tr>\n",
       "      <th>2</th>\n",
       "      <td>400000</td>\n",
       "      <td>5109 E THOMAS RD</td>\n",
       "      <td>85018</td>\n",
       "      <td>Active</td>\n",
       "      <td>6243667</td>\n",
       "      <td>PAPAGO VILLAGE</td>\n",
       "      <td>1943</td>\n",
       "      <td>0</td>\n",
       "      <td>0.0</td>\n",
       "      <td>1358.0</td>\n",
       "    </tr>\n",
       "    <tr>\n",
       "      <th>3</th>\n",
       "      <td>399900</td>\n",
       "      <td>8020 W STELLA AVE</td>\n",
       "      <td>85303</td>\n",
       "      <td>Active</td>\n",
       "      <td>6384821</td>\n",
       "      <td>SHALIMAR</td>\n",
       "      <td>1997</td>\n",
       "      <td>3</td>\n",
       "      <td>2.0</td>\n",
       "      <td>1505.0</td>\n",
       "    </tr>\n",
       "    <tr>\n",
       "      <th>4</th>\n",
       "      <td>349000</td>\n",
       "      <td>6944 W Verde LN</td>\n",
       "      <td>85033</td>\n",
       "      <td>Active</td>\n",
       "      <td>6395738</td>\n",
       "      <td>MARYVALE TERRACE NO. 49</td>\n",
       "      <td>1983</td>\n",
       "      <td>3</td>\n",
       "      <td>3.0</td>\n",
       "      <td>1514.0</td>\n",
       "    </tr>\n",
       "    <tr>\n",
       "      <th>5</th>\n",
       "      <td>419000</td>\n",
       "      <td>4105 W PASADENA AVE</td>\n",
       "      <td>85019</td>\n",
       "      <td>Active</td>\n",
       "      <td>6395732</td>\n",
       "      <td>TU-DOR ESTATES</td>\n",
       "      <td>1971</td>\n",
       "      <td>4</td>\n",
       "      <td>2.0</td>\n",
       "      <td>1908.0</td>\n",
       "    </tr>\n",
       "  </tbody>\n",
       "</table>\n",
       "</div>"
      ],
      "text/plain": [
       "     Price              Address    zip  status      mls  \\\n",
       "id                                                        \n",
       "1   427167  3231 W MARYLAND AVE  85017  Active  6395749   \n",
       "2   400000     5109 E THOMAS RD  85018  Active  6243667   \n",
       "3   399900    8020 W STELLA AVE  85303  Active  6384821   \n",
       "4   349000      6944 W Verde LN  85033  Active  6395738   \n",
       "5   419000  4105 W PASADENA AVE  85019  Active  6395732   \n",
       "\n",
       "                 Subdivision  Year Built  Bedrooms  Bathrooms  Approx SQFT  \n",
       "id                                                                          \n",
       "1   WEST PLAZA 6 LOT 614-787        1958         3        2.0       1302.0  \n",
       "2             PAPAGO VILLAGE        1943         0        0.0       1358.0  \n",
       "3                   SHALIMAR        1997         3        2.0       1505.0  \n",
       "4    MARYVALE TERRACE NO. 49        1983         3        3.0       1514.0  \n",
       "5             TU-DOR ESTATES        1971         4        2.0       1908.0  "
      ]
     },
     "execution_count": 3,
     "metadata": {},
     "output_type": "execute_result"
    }
   ],
   "source": [
    "df = pd.read_csv('../combined_data_clean.csv', index_col='id')\n",
    "df.head()"
   ]
  },
  {
   "cell_type": "code",
   "execution_count": 5,
   "metadata": {},
   "outputs": [],
   "source": [
    "# Set up connection\n",
    "conn=sqlite3.connect('db.sqlite')"
   ]
  },
  {
   "cell_type": "code",
   "execution_count": 6,
   "metadata": {},
   "outputs": [
    {
     "name": "stderr",
     "output_type": "stream",
     "text": [
      "c:\\Users\\jodad\\anaconda3\\envs\\PythonData\\lib\\site-packages\\pandas\\core\\generic.py:2882: UserWarning: The spaces in these column names will not be changed. In pandas versions < 0.14, spaces were converted to underscores.\n",
      "  method=method,\n"
     ]
    }
   ],
   "source": [
    "# Convert Pandas DataFrame to SQL Database\n",
    "df.to_sql('housing_data_db', conn, if_exists='replace', index=False)"
   ]
  },
  {
   "cell_type": "code",
   "execution_count": 10,
   "metadata": {},
   "outputs": [
    {
     "data": {
      "text/html": [
       "<div>\n",
       "<style scoped>\n",
       "    .dataframe tbody tr th:only-of-type {\n",
       "        vertical-align: middle;\n",
       "    }\n",
       "\n",
       "    .dataframe tbody tr th {\n",
       "        vertical-align: top;\n",
       "    }\n",
       "\n",
       "    .dataframe thead th {\n",
       "        text-align: right;\n",
       "    }\n",
       "</style>\n",
       "<table border=\"1\" class=\"dataframe\">\n",
       "  <thead>\n",
       "    <tr style=\"text-align: right;\">\n",
       "      <th></th>\n",
       "      <th>Price</th>\n",
       "      <th>Address</th>\n",
       "      <th>zip</th>\n",
       "      <th>status</th>\n",
       "      <th>mls</th>\n",
       "      <th>Subdivision</th>\n",
       "      <th>Year Built</th>\n",
       "      <th>Bedrooms</th>\n",
       "      <th>Bathrooms</th>\n",
       "      <th>Approx SQFT</th>\n",
       "    </tr>\n",
       "  </thead>\n",
       "  <tbody>\n",
       "    <tr>\n",
       "      <th>0</th>\n",
       "      <td>427167</td>\n",
       "      <td>3231 W MARYLAND AVE</td>\n",
       "      <td>85017</td>\n",
       "      <td>Active</td>\n",
       "      <td>6395749</td>\n",
       "      <td>WEST PLAZA 6 LOT 614-787</td>\n",
       "      <td>1958</td>\n",
       "      <td>3</td>\n",
       "      <td>2.0</td>\n",
       "      <td>1302.0</td>\n",
       "    </tr>\n",
       "    <tr>\n",
       "      <th>1</th>\n",
       "      <td>400000</td>\n",
       "      <td>5109 E THOMAS RD</td>\n",
       "      <td>85018</td>\n",
       "      <td>Active</td>\n",
       "      <td>6243667</td>\n",
       "      <td>PAPAGO VILLAGE</td>\n",
       "      <td>1943</td>\n",
       "      <td>0</td>\n",
       "      <td>0.0</td>\n",
       "      <td>1358.0</td>\n",
       "    </tr>\n",
       "    <tr>\n",
       "      <th>2</th>\n",
       "      <td>399900</td>\n",
       "      <td>8020 W STELLA AVE</td>\n",
       "      <td>85303</td>\n",
       "      <td>Active</td>\n",
       "      <td>6384821</td>\n",
       "      <td>SHALIMAR</td>\n",
       "      <td>1997</td>\n",
       "      <td>3</td>\n",
       "      <td>2.0</td>\n",
       "      <td>1505.0</td>\n",
       "    </tr>\n",
       "    <tr>\n",
       "      <th>3</th>\n",
       "      <td>349000</td>\n",
       "      <td>6944 W Verde LN</td>\n",
       "      <td>85033</td>\n",
       "      <td>Active</td>\n",
       "      <td>6395738</td>\n",
       "      <td>MARYVALE TERRACE NO. 49</td>\n",
       "      <td>1983</td>\n",
       "      <td>3</td>\n",
       "      <td>3.0</td>\n",
       "      <td>1514.0</td>\n",
       "    </tr>\n",
       "    <tr>\n",
       "      <th>4</th>\n",
       "      <td>419000</td>\n",
       "      <td>4105 W PASADENA AVE</td>\n",
       "      <td>85019</td>\n",
       "      <td>Active</td>\n",
       "      <td>6395732</td>\n",
       "      <td>TU-DOR ESTATES</td>\n",
       "      <td>1971</td>\n",
       "      <td>4</td>\n",
       "      <td>2.0</td>\n",
       "      <td>1908.0</td>\n",
       "    </tr>\n",
       "    <tr>\n",
       "      <th>...</th>\n",
       "      <td>...</td>\n",
       "      <td>...</td>\n",
       "      <td>...</td>\n",
       "      <td>...</td>\n",
       "      <td>...</td>\n",
       "      <td>...</td>\n",
       "      <td>...</td>\n",
       "      <td>...</td>\n",
       "      <td>...</td>\n",
       "      <td>...</td>\n",
       "    </tr>\n",
       "    <tr>\n",
       "      <th>2260</th>\n",
       "      <td>600000</td>\n",
       "      <td>3402 E CAROL ANN WAY</td>\n",
       "      <td>85032</td>\n",
       "      <td>Closed</td>\n",
       "      <td>6368329</td>\n",
       "      <td>BELLA TERRA</td>\n",
       "      <td>1981</td>\n",
       "      <td>3</td>\n",
       "      <td>2.0</td>\n",
       "      <td>2012.0</td>\n",
       "    </tr>\n",
       "    <tr>\n",
       "      <th>2261</th>\n",
       "      <td>375000</td>\n",
       "      <td>739 E Constance WAY</td>\n",
       "      <td>85042</td>\n",
       "      <td>Closed</td>\n",
       "      <td>6358973</td>\n",
       "      <td>VILLAGES AT VERONA</td>\n",
       "      <td>2016</td>\n",
       "      <td>3</td>\n",
       "      <td>2.5</td>\n",
       "      <td>1499.0</td>\n",
       "    </tr>\n",
       "    <tr>\n",
       "      <th>2262</th>\n",
       "      <td>365000</td>\n",
       "      <td>7301 W CHERYL DR</td>\n",
       "      <td>85345</td>\n",
       "      <td>Closed</td>\n",
       "      <td>6365681</td>\n",
       "      <td>SUNTOWN UNIT 2</td>\n",
       "      <td>1972</td>\n",
       "      <td>3</td>\n",
       "      <td>2.0</td>\n",
       "      <td>1581.0</td>\n",
       "    </tr>\n",
       "    <tr>\n",
       "      <th>2263</th>\n",
       "      <td>529000</td>\n",
       "      <td>4637 E GRANADA RD</td>\n",
       "      <td>85008</td>\n",
       "      <td>Closed</td>\n",
       "      <td>6354718</td>\n",
       "      <td>RANCHO MIO</td>\n",
       "      <td>1953</td>\n",
       "      <td>3</td>\n",
       "      <td>2.0</td>\n",
       "      <td>1710.0</td>\n",
       "    </tr>\n",
       "    <tr>\n",
       "      <th>2264</th>\n",
       "      <td>460000</td>\n",
       "      <td>2016 W HOLLY ST</td>\n",
       "      <td>85009</td>\n",
       "      <td>Closed</td>\n",
       "      <td>6362564</td>\n",
       "      <td>VENICE</td>\n",
       "      <td>1953</td>\n",
       "      <td>3</td>\n",
       "      <td>2.0</td>\n",
       "      <td>1145.0</td>\n",
       "    </tr>\n",
       "  </tbody>\n",
       "</table>\n",
       "<p>2265 rows × 10 columns</p>\n",
       "</div>"
      ],
      "text/plain": [
       "       Price               Address    zip  status      mls  \\\n",
       "0     427167   3231 W MARYLAND AVE  85017  Active  6395749   \n",
       "1     400000      5109 E THOMAS RD  85018  Active  6243667   \n",
       "2     399900     8020 W STELLA AVE  85303  Active  6384821   \n",
       "3     349000       6944 W Verde LN  85033  Active  6395738   \n",
       "4     419000   4105 W PASADENA AVE  85019  Active  6395732   \n",
       "...      ...                   ...    ...     ...      ...   \n",
       "2260  600000  3402 E CAROL ANN WAY  85032  Closed  6368329   \n",
       "2261  375000   739 E Constance WAY  85042  Closed  6358973   \n",
       "2262  365000      7301 W CHERYL DR  85345  Closed  6365681   \n",
       "2263  529000     4637 E GRANADA RD  85008  Closed  6354718   \n",
       "2264  460000       2016 W HOLLY ST  85009  Closed  6362564   \n",
       "\n",
       "                   Subdivision  Year Built  Bedrooms  Bathrooms  Approx SQFT  \n",
       "0     WEST PLAZA 6 LOT 614-787        1958         3        2.0       1302.0  \n",
       "1               PAPAGO VILLAGE        1943         0        0.0       1358.0  \n",
       "2                     SHALIMAR        1997         3        2.0       1505.0  \n",
       "3      MARYVALE TERRACE NO. 49        1983         3        3.0       1514.0  \n",
       "4               TU-DOR ESTATES        1971         4        2.0       1908.0  \n",
       "...                        ...         ...       ...        ...          ...  \n",
       "2260               BELLA TERRA        1981         3        2.0       2012.0  \n",
       "2261        VILLAGES AT VERONA        2016         3        2.5       1499.0  \n",
       "2262            SUNTOWN UNIT 2        1972         3        2.0       1581.0  \n",
       "2263                RANCHO MIO        1953         3        2.0       1710.0  \n",
       "2264                    VENICE        1953         3        2.0       1145.0  \n",
       "\n",
       "[2265 rows x 10 columns]"
      ]
     },
     "execution_count": 10,
     "metadata": {},
     "output_type": "execute_result"
    }
   ],
   "source": [
    "#  Confirm data is in SQL database.\n",
    "pd.read_sql('select * from housing_data_db', conn)\n"
   ]
  },
  {
   "cell_type": "code",
   "execution_count": 22,
   "metadata": {},
   "outputs": [],
   "source": [
    "#  Confirm data is in SQL database.\n",
    "new_df = pd.read_sql('select * from housing_data_db', conn)"
   ]
  },
  {
   "cell_type": "code",
   "execution_count": 54,
   "metadata": {},
   "outputs": [
    {
     "name": "stdout",
     "output_type": "stream",
     "text": [
      "{85017: 234.32, 85018: 443.59, 85303: 251.0, 85033: 253.33, 85019: 241.23, 85029: 264.61, 85051: 246.57, 85040: 245.44, 85013: 379.48, 85301: 236.52, 85032: 333.93, 85028: 358.68, 85020: 333.31, 85041: 237.25, 85014: 378.93, 85016: 388.09, 85006: 375.96, 85053: 255.93, 85251: 480.84, 85302: 248.66, 85304: 263.13, 85023: 284.57, 85306: 270.54, 85021: 334.42, 85008: 321.51, 85009: 263.56, 85043: 248.42, 85037: 264.63, 85035: 245.07, 85257: 416.43, 85031: 231.12, 85250: 432.05, 85042: 272.55, 85003: 383.97, 85015: 299.84, 85012: 370.81, 85022: 294.29, 85281: 351.33, 85004: 373.08, 85007: 372.06, 85339: 232.77, 85254: 411.07, 85345: 282.0, 85258: 385.24, 85034: 302.79, 85305: 223.45, 85282: 366.92}\n"
     ]
    }
   ],
   "source": [
    "zip_list=[]\n",
    "pricepersf={}\n",
    "for zip in new_df['zip']:\n",
    "    if zip not in zip_list:\n",
    "        zip_list.append(zip)\n",
    "    df_zip=df.loc[(df['zip']==zip)]    \n",
    "    \n",
    "    \n",
    "    pricepersf[zip]=round(df_zip['Price'].mean()/df_zip['Approx SQFT'].mean(), 2)\n",
    "    \n",
    "\n",
    "print(pricepersf)\n"
   ]
  },
  {
   "cell_type": "code",
   "execution_count": 52,
   "metadata": {},
   "outputs": [
    {
     "data": {
      "text/plain": [
       "443.59186678101776"
      ]
     },
     "execution_count": 52,
     "metadata": {},
     "output_type": "execute_result"
    }
   ],
   "source": [
    "df_zip=df.loc[(df['zip']==85018)]\n",
    "avg_price=df_zip['Price'].mean()\n",
    "avg_sf=df_zip['Approx SQFT'].mean()\n",
    "avg_price_per_sf=avg_price/avg_sf\n",
    "avg_price_per_sf"
   ]
  },
  {
   "cell_type": "code",
   "execution_count": 47,
   "metadata": {},
   "outputs": [],
   "source": [
    "\n",
    "# zip_list=[]\n",
    "# pricepersf={}\n",
    "# for zip in zip_list:\n",
    "#     if zip not in zip_list:\n",
    "#         zip_list.append(zip)\n",
    "#         # pricepersf['zip']=0\n",
    "    \n",
    "#     df_zip=df.loc[(df['zip']==zip)]\n",
    "#     avg_price=df_zip['Price'].mean()\n",
    "#     avg_sf=df_zip['Approx SQFT'].mean()\n",
    "#     avg_price_per_sf=avg_price/avg_sf\n",
    "# pricepersf[zip]=avg_price_per_sf"
   ]
  },
  {
   "cell_type": "code",
   "execution_count": 48,
   "metadata": {},
   "outputs": [
    {
     "data": {
      "text/plain": [
       "{85009: 366.921768707483}"
      ]
     },
     "execution_count": 48,
     "metadata": {},
     "output_type": "execute_result"
    }
   ],
   "source": [
    "# pricepersf"
   ]
  },
  {
   "cell_type": "code",
   "execution_count": 19,
   "metadata": {},
   "outputs": [
    {
     "data": {
      "text/plain": [
       "406282.14285714284"
      ]
     },
     "execution_count": 19,
     "metadata": {},
     "output_type": "execute_result"
    }
   ],
   "source": [
    "# avg_price= new_df['Price'].mean()\n",
    "# avg_price"
   ]
  },
  {
   "cell_type": "code",
   "execution_count": 20,
   "metadata": {},
   "outputs": [],
   "source": [
    "# avg_sf= new_df['Approx SQFT'].mean()"
   ]
  },
  {
   "cell_type": "code",
   "execution_count": 21,
   "metadata": {},
   "outputs": [
    {
     "data": {
      "text/plain": [
       "281.0113136702732"
      ]
     },
     "execution_count": 21,
     "metadata": {},
     "output_type": "execute_result"
    }
   ],
   "source": [
    "# avg_price_per_sf=avg_price/avg_sf\n",
    "# avg_price_per_sf"
   ]
  },
  {
   "cell_type": "code",
   "execution_count": null,
   "metadata": {},
   "outputs": [],
   "source": []
  }
 ],
 "metadata": {
  "interpreter": {
   "hash": "d438daee05940ba0b1ce53336a2df337a959423a5c4d88470d6c1ab09c2a0a93"
  },
  "kernelspec": {
   "display_name": "Python 3.7.11 ('PythonData')",
   "language": "python",
   "name": "python3"
  },
  "language_info": {
   "codemirror_mode": {
    "name": "ipython",
    "version": 3
   },
   "file_extension": ".py",
   "mimetype": "text/x-python",
   "name": "python",
   "nbconvert_exporter": "python",
   "pygments_lexer": "ipython3",
   "version": "3.7.11"
  },
  "orig_nbformat": 4
 },
 "nbformat": 4,
 "nbformat_minor": 2
}
